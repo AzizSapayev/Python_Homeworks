{
 "cells": [
  {
   "cell_type": "markdown",
   "id": "1954b892",
   "metadata": {},
   "source": [
    "1. Create and Access List Elements\n",
    "Create a list containing five different fruits and print the third fruit."
   ]
  },
  {
   "cell_type": "code",
   "execution_count": 2,
   "id": "4e22d29b",
   "metadata": {},
   "outputs": [
    {
     "name": "stdout",
     "output_type": "stream",
     "text": [
      "shaftoli\n"
     ]
    }
   ],
   "source": [
    "royhat=('apple','nok','shaftoli','olcha','behi')\n",
    "print(royhat[2])"
   ]
  },
  {
   "cell_type": "markdown",
   "id": "b8978946",
   "metadata": {},
   "source": [
    "2. Concatenate Two Lists\n",
    "Create two lists of numbers and concatenate them into a single list."
   ]
  },
  {
   "cell_type": "code",
   "execution_count": null,
   "id": "074d3f47",
   "metadata": {},
   "outputs": [],
   "source": [
    "nums1=(1,2,3,4,5)\n",
    "nums2=(6,7,8,9,10)\n",
    "print(nums1+nums2)\n"
   ]
  },
  {
   "cell_type": "markdown",
   "id": "60d99296",
   "metadata": {},
   "source": [
    "3. Extract Elements from a List\n",
    "Given a list of numbers, extract the first, middle, and last elements and store them in a new list."
   ]
  },
  {
   "cell_type": "code",
   "execution_count": 6,
   "id": "286e9db4",
   "metadata": {},
   "outputs": [
    {
     "name": "stdout",
     "output_type": "stream",
     "text": [
      "[1, 6, 10]\n"
     ]
    }
   ],
   "source": [
    "numbers=[1,2,3,4,5,6,7,8,9,10]\n",
    "first=numbers[0]\n",
    "middle=numbers[len(numbers)//2]\n",
    "last=numbers[-1]\n",
    "result=[first,middle,last]\n",
    "print(result)"
   ]
  },
  {
   "cell_type": "markdown",
   "id": "e5a15afd",
   "metadata": {},
   "source": [
    "4. Convert List to Tuple\n",
    "Create a list of your five favorite movies and convert it into a tuple."
   ]
  },
  {
   "cell_type": "code",
   "execution_count": 7,
   "id": "2ad52a63",
   "metadata": {},
   "outputs": [
    {
     "name": "stdout",
     "output_type": "stream",
     "text": [
      "('Inception', 'The Dark Knight', 'Interstellar', 'Avatar', 'The Matrix')\n"
     ]
    }
   ],
   "source": [
    "favorite_movies = [\"Inception\", \"The Dark Knight\", \"Interstellar\", \"Avatar\", \"The Matrix\"]# bu list\n",
    "favorite=tuple(favorite_movies)\n",
    "print(favorite)\n"
   ]
  },
  {
   "cell_type": "markdown",
   "id": "88656b95",
   "metadata": {},
   "source": [
    "5. Check Element in a List\n",
    "Given a list of cities, check if \"Paris\" is in the list and print the result."
   ]
  },
  {
   "cell_type": "code",
   "execution_count": 8,
   "id": "ed7b9912",
   "metadata": {},
   "outputs": [
    {
     "name": "stdout",
     "output_type": "stream",
     "text": [
      "ha bor\n"
     ]
    }
   ],
   "source": [
    "cities=[\"London\",\"Berlin\",\"madrid\",\"Paris\",\"Lisbon\"]\n",
    "if \"Paris\" in cities:\n",
    "    print( \"ha bor\")\n",
    "else:\n",
    "    print(\"yoq\")"
   ]
  },
  {
   "cell_type": "markdown",
   "id": "a306dc6c",
   "metadata": {},
   "source": [
    "6. Duplicate a List Without Using Loops\n",
    "Create a list of numbers and duplicate it without using loops."
   ]
  },
  {
   "cell_type": "code",
   "execution_count": 9,
   "id": "1a1a8ddb",
   "metadata": {},
   "outputs": [
    {
     "name": "stdout",
     "output_type": "stream",
     "text": [
      "[1, 2, 3, 4, 5]\n",
      "[1, 2, 3, 4, 5]\n",
      "[1, 2, 3, 4, 5]\n"
     ]
    }
   ],
   "source": [
    "numbers = [1, 2, 3, 4, 5]\n",
    "\n",
    "# Method 1: Using slicing\n",
    "duplicate_list = numbers[:]\n",
    "\n",
    "# Method 2: Using list() constructor\n",
    "duplicate_list2 = list(numbers)\n",
    "\n",
    "# Method 3: Using copy() method\n",
    "duplicate_list3 = numbers.copy()\n",
    "\n",
    "print(duplicate_list)\n",
    "print(duplicate_list2)\n",
    "print(duplicate_list3)\n"
   ]
  },
  {
   "cell_type": "markdown",
   "id": "c1fa3dce",
   "metadata": {},
   "source": [
    "7. Swap First and Last Elements of a List\n",
    "Given a list of numbers, swap the first and last elements."
   ]
  },
  {
   "cell_type": "code",
   "execution_count": 13,
   "id": "99fdc01b",
   "metadata": {},
   "outputs": [
    {
     "name": "stdout",
     "output_type": "stream",
     "text": [
      "[5, 2, 3, 4, 1]\n"
     ]
    }
   ],
   "source": [
    "numbers = [1, 2, 3, 4, 5]\n",
    "numbers[0],numbers[-1]=numbers[-1],numbers[0]\n",
    "print(numbers)"
   ]
  },
  {
   "cell_type": "markdown",
   "id": "d86741ce",
   "metadata": {},
   "source": [
    "8. Slice a Tuple\n",
    "Create a tuple of numbers from 1 to 10 and print a slice from index 3 to 7."
   ]
  },
  {
   "cell_type": "code",
   "execution_count": 17,
   "id": "ab6a0a28",
   "metadata": {},
   "outputs": [
    {
     "name": "stdout",
     "output_type": "stream",
     "text": [
      "<class 'tuple'>\n",
      "(4, 5, 6, 7)\n"
     ]
    }
   ],
   "source": [
    "numbers=(1,2,3,4,5,6,7,8,9,10,11)\n",
    "print(type(numbers))\n",
    "nums1=numbers[3:7]\n",
    "print(nums1)"
   ]
  },
  {
   "cell_type": "markdown",
   "id": "7eebc9da",
   "metadata": {},
   "source": [
    "9. Count Occurrences in a List\n",
    "Create a list of colors and count how many times \"blue\" appears in the list."
   ]
  },
  {
   "cell_type": "code",
   "execution_count": 18,
   "id": "c94f194a",
   "metadata": {},
   "outputs": [
    {
     "name": "stdout",
     "output_type": "stream",
     "text": [
      "Blue appears 3 times.\n"
     ]
    }
   ],
   "source": [
    "colors = [\"red\", \"blue\", \"green\", \"blue\", \"yellow\", \"blue\"]\n",
    "\n",
    "blue_count = colors.count(\"blue\")\n",
    "\n",
    "print(\"Blue appears\", blue_count, \"times.\")\n"
   ]
  },
  {
   "cell_type": "markdown",
   "id": "31c70f45",
   "metadata": {},
   "source": [
    "10. Find the Index of an Element in a Tuple\n",
    "Given a tuple of animals, find the index of \"lion\"."
   ]
  },
  {
   "cell_type": "code",
   "execution_count": 23,
   "id": "37ab1192",
   "metadata": {},
   "outputs": [
    {
     "name": "stdout",
     "output_type": "stream",
     "text": [
      "0\n"
     ]
    }
   ],
   "source": [
    "animals = (\"lion\", \"tiger\", \"elephant\", \"giraffe\", \"zebra\")\n",
    "finding=animals.index(\"lion\")\n",
    "print(finding)"
   ]
  },
  {
   "cell_type": "code",
   "execution_count": 24,
   "id": "c8ca071a",
   "metadata": {},
   "outputs": [
    {
     "name": "stdout",
     "output_type": "stream",
     "text": [
      "(1, 2, 3, 4, 5, 6)\n"
     ]
    }
   ],
   "source": [
    "tuple1 = (1, 2, 3)\n",
    "tuple2 = (4, 5, 6)\n",
    "\n",
    "merged_tuple = tuple1 + tuple2\n",
    "\n",
    "print(merged_tuple)\n"
   ]
  },
  {
   "cell_type": "code",
   "execution_count": 25,
   "id": "94205933",
   "metadata": {},
   "outputs": [
    {
     "name": "stdout",
     "output_type": "stream",
     "text": [
      "Length of list: 5\n",
      "Length of tuple: 3\n"
     ]
    }
   ],
   "source": [
    "my_list = [10, 20, 30, 40, 50]\n",
    "my_tuple = (\"apple\", \"banana\", \"cherry\")\n",
    "\n",
    "print(\"Length of list:\", len(my_list))\n",
    "print(\"Length of tuple:\", len(my_tuple))\n"
   ]
  },
  {
   "cell_type": "code",
   "execution_count": 26,
   "id": "ed04626d",
   "metadata": {},
   "outputs": [
    {
     "name": "stdout",
     "output_type": "stream",
     "text": [
      "list['apple', 'banana', 'cherry']\n"
     ]
    }
   ],
   "source": [
    "my_tuple = (\"apple\", \"banana\", \"cherry\")\n",
    "listim=list[my_tuple]\n",
    "print(listim)"
   ]
  },
  {
   "cell_type": "code",
   "execution_count": 29,
   "id": "16d4f71f",
   "metadata": {},
   "outputs": [
    {
     "name": "stdout",
     "output_type": "stream",
     "text": [
      "<class 'tuple'>\n",
      "11\n",
      "1\n"
     ]
    }
   ],
   "source": [
    "numbers=(1,2,3,4,5,6,7,8,9,10,11)\n",
    "print(type(numbers))\n",
    "print(max(numbers))\n",
    "print(min(numbers))"
   ]
  },
  {
   "cell_type": "code",
   "execution_count": 30,
   "id": "a42f3519",
   "metadata": {},
   "outputs": [
    {
     "name": "stdout",
     "output_type": "stream",
     "text": [
      "('coding', 'python', 'world', 'hello')\n"
     ]
    }
   ],
   "source": [
    "words = (\"hello\", \"world\", \"python\", \"coding\")\n",
    "\n",
    "reversed_tuple = words[::-1]\n",
    "\n",
    "print(reversed_tuple)\n"
   ]
  },
  {
   "cell_type": "markdown",
   "id": "cb61eb5a",
   "metadata": {},
   "source": []
  }
 ],
 "metadata": {
  "kernelspec": {
   "display_name": "Python 3",
   "language": "python",
   "name": "python3"
  },
  "language_info": {
   "codemirror_mode": {
    "name": "ipython",
    "version": 3
   },
   "file_extension": ".py",
   "mimetype": "text/x-python",
   "name": "python",
   "nbconvert_exporter": "python",
   "pygments_lexer": "ipython3",
   "version": "3.13.2"
  }
 },
 "nbformat": 4,
 "nbformat_minor": 5
}
